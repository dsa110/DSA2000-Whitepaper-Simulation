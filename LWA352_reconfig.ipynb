{
  "cells": [
    {
      "cell_type": "code",
      "source": [
        "import casatools\n",
        "import matplotlib.pyplot as plt\n",
        "import numpy as np\n",
        "from astropy.table import Table\n"
      ],
      "outputs": [],
      "execution_count": 46,
      "metadata": {
        "collapsed": false,
        "jupyter": {
          "source_hidden": false,
          "outputs_hidden": false
        },
        "nteract": {
          "transient": {
            "deleting": false
          }
        },
        "execution": {
          "iopub.status.busy": "2020-03-12T23:59:51.592Z",
          "iopub.execute_input": "2020-03-12T23:59:51.595Z",
          "iopub.status.idle": "2020-03-12T23:59:52.067Z",
          "shell.execute_reply": "2020-03-12T23:59:52.069Z"
        }
      }
    },
    {
      "cell_type": "code",
      "source": [
        "cd ~/code/dsa2000sim"
      ],
      "outputs": [
        {
          "output_type": "stream",
          "name": "stdout",
          "text": [
            "/Users/claw/code/dsa2000sim\n"
          ]
        }
      ],
      "execution_count": 1,
      "metadata": {
        "collapsed": false,
        "jupyter": {
          "source_hidden": false,
          "outputs_hidden": false
        },
        "nteract": {
          "transient": {
            "deleting": false
          }
        },
        "execution": {
          "shell.execute_reply": "2020-03-12T21:13:53.431Z",
          "iopub.status.busy": "2020-03-12T21:13:53.438Z",
          "iopub.execute_input": "2020-03-12T21:13:53.440Z",
          "iopub.status.idle": "2020-03-12T21:13:53.448Z"
        }
      }
    },
    {
      "cell_type": "code",
      "source": [
        "tabname = 'antenna_positions_LWA_coordinates.tab'\n",
        "#conf_file = 'LWA_coordinates.cfg'\n",
        "conf_file = 'LWA352_tmp.cfg'"
      ],
      "outputs": [],
      "execution_count": 50,
      "metadata": {
        "collapsed": false,
        "jupyter": {
          "source_hidden": false,
          "outputs_hidden": false
        },
        "nteract": {
          "transient": {
            "deleting": false
          }
        },
        "execution": {
          "iopub.status.busy": "2020-03-13T00:03:40.904Z",
          "iopub.execute_input": "2020-03-13T00:03:40.907Z",
          "iopub.status.idle": "2020-03-13T00:03:40.910Z",
          "shell.execute_reply": "2020-03-13T00:03:40.913Z"
        }
      }
    },
    {
      "cell_type": "code",
      "source": [
        "tb = casatools.table()\n",
        "tb.fromascii(tabname, conf_file, firstline=3, sep=' ', columnnames=['X', 'Y', 'Z', 'DIAM', 'NAME'], datatypes=['D', 'D', 'D', 'D', 'A'])\n",
        "xx=tb.getcol('X')\n",
        "yy=tb.getcol('Y')\n",
        "zz=tb.getcol('Z')\n",
        "diam=tb.getcol('DIAM')\n",
        "anames=tb.getcol('NAME')\n",
        "tb.close()\n"
      ],
      "outputs": [
        {
          "output_type": "execute_result",
          "execution_count": 51,
          "data": {
            "text/plain": [
              "True"
            ]
          },
          "metadata": {}
        }
      ],
      "execution_count": 51,
      "metadata": {
        "collapsed": false,
        "jupyter": {
          "source_hidden": false,
          "outputs_hidden": false
        },
        "nteract": {
          "transient": {
            "deleting": false
          }
        },
        "execution": {
          "iopub.status.busy": "2020-03-13T00:03:41.641Z",
          "iopub.execute_input": "2020-03-13T00:03:41.644Z",
          "iopub.status.idle": "2020-03-13T00:03:41.649Z",
          "shell.execute_reply": "2020-03-13T00:03:41.656Z"
        }
      }
    },
    {
      "cell_type": "code",
      "source": [
        "plt.figure(figsize=(10,10))\n",
        "x0 = -2409000\n",
        "y0 = -4477250\n",
        "delta = 300\n",
        "ww = np.where((xx < x0+delta)*(xx > x0)*(yy > y0)*(yy < y0+delta))\n",
        "plt.scatter(xx[ww], yy[ww])\n",
        "#plt.scatter(xx, yy)\n",
        "i0 = np.where(anames == 'LWA-23')[0][0]\n",
        "i1 = np.where(anames == 'LWA-27')[0][0]\n",
        "i2 = np.where(anames == 'LWA-30')[0][0]\n",
        "i3 = np.where(anames == 'LWA-31')[0][0]\n",
        "i4 = np.where(anames == 'LWA-62')[0][0]\n",
        "i5 = np.where(anames == 'LWA-93')[0][0]\n",
        "i6 = np.where(anames == 'LWA-94')[0][0]\n",
        "plt.text(xx[i0], yy[i0], anames[i0])\n",
        "plt.text(xx[i1], yy[i1], anames[i1])\n",
        "plt.text(xx[i2], yy[i2], anames[i2])\n",
        "plt.text(xx[i3], yy[i3], anames[i3])\n",
        "plt.text(xx[i4], yy[i4], anames[i4])\n",
        "plt.text(xx[i5], yy[i5], anames[i5])\n",
        "plt.text(xx[i6], yy[i6], anames[i6])"
      ],
      "outputs": [
        {
          "output_type": "execute_result",
          "execution_count": 58,
          "data": {
            "text/plain": [
              "Text(-2408809.3052168754, -4477143.145719079, 'LWA-94')"
            ]
          },
          "metadata": {}
        },
        {
          "output_type": "display_data",
          "data": {
            "text/plain": [
              "<Figure size 720x720 with 1 Axes>"
            ],
            "image/png": "[encoded data removed]"
          },
          "metadata": {
            "needs_background": "light"
          }
        }
      ],
      "execution_count": 58,
      "metadata": {
        "collapsed": false,
        "jupyter": {
          "source_hidden": false,
          "outputs_hidden": false
        },
        "nteract": {
          "transient": {
            "deleting": false
          }
        },
        "execution": {
          "iopub.status.busy": "2020-03-13T00:05:01.403Z",
          "iopub.execute_input": "2020-03-13T00:05:01.406Z",
          "iopub.status.idle": "2020-03-13T00:05:01.556Z",
          "shell.execute_reply": "2020-03-13T00:05:01.564Z"
        }
      }
    },
    {
      "cell_type": "code",
      "source": [
        "for ii in [i0, i1, i2, i3, i4, i5, i6]:\n",
        "    yy[ii] -= 100"
      ],
      "outputs": [],
      "execution_count": 59,
      "metadata": {
        "collapsed": false,
        "jupyter": {
          "source_hidden": false,
          "outputs_hidden": false
        },
        "nteract": {
          "transient": {
            "deleting": false
          }
        },
        "execution": {
          "iopub.status.busy": "2020-03-13T00:05:01.812Z",
          "iopub.execute_input": "2020-03-13T00:05:01.814Z",
          "iopub.status.idle": "2020-03-13T00:05:01.819Z",
          "shell.execute_reply": "2020-03-13T00:05:01.821Z"
        }
      }
    },
    {
      "cell_type": "code",
      "source": [
        "plt.figure(figsize=(10,10))\n",
        "x0 = -2409000\n",
        "y0 = -4477250\n",
        "delta = 300\n",
        "ww = np.where((xx < x0+delta)*(xx > x0)*(yy > y0)*(yy < y0+delta))\n",
        "plt.scatter(xx, yy)\n",
        "plt.text(xx[i0], yy[i0], anames[i0])\n",
        "plt.text(xx[i1], yy[i1], anames[i1])\n",
        "plt.text(xx[i2], yy[i2], anames[i2])\n",
        "plt.text(xx[i3], yy[i3], anames[i3])\n",
        "plt.text(xx[i4], yy[i4], anames[i4])\n",
        "plt.text(xx[i5], yy[i5], anames[i5])\n",
        "plt.text(xx[i6], yy[i6], anames[i6])"
      ],
      "outputs": [
        {
          "output_type": "execute_result",
          "execution_count": 60,
          "data": {
            "text/plain": [
              "Text(-2408809.3052168754, -4477243.145719079, 'LWA-94')"
            ]
          },
          "metadata": {}
        },
        {
          "output_type": "display_data",
          "data": {
            "text/plain": [
              "<Figure size 720x720 with 1 Axes>"
            ],
            "image/png": "[encoded data removed]"
          },
          "metadata": {
            "needs_background": "light"
          }
        }
      ],
      "execution_count": 60,
      "metadata": {
        "collapsed": false,
        "jupyter": {
          "source_hidden": false,
          "outputs_hidden": false
        },
        "nteract": {
          "transient": {
            "deleting": false
          }
        },
        "execution": {
          "iopub.status.busy": "2020-03-13T00:05:02.939Z",
          "iopub.execute_input": "2020-03-13T00:05:02.941Z",
          "iopub.status.idle": "2020-03-13T00:05:03.188Z",
          "shell.execute_reply": "2020-03-13T00:05:03.193Z"
        }
      }
    },
    {
      "cell_type": "code",
      "source": [
        "tab = Table([xx, yy, zz, diam, anames], names=['x', 'y', 'z', 'diam', 'name']) \n",
        "tab.write('LWA352_coordinates_mod.cfg', format='ascii')"
      ],
      "outputs": [],
      "execution_count": 62,
      "metadata": {
        "collapsed": false,
        "jupyter": {
          "source_hidden": false,
          "outputs_hidden": false
        },
        "nteract": {
          "transient": {
            "deleting": false
          }
        },
        "execution": {
          "iopub.status.busy": "2020-03-13T00:05:39.892Z",
          "iopub.execute_input": "2020-03-13T00:05:39.895Z",
          "iopub.status.idle": "2020-03-13T00:05:39.898Z",
          "shell.execute_reply": "2020-03-13T00:05:39.904Z"
        }
      }
    },
    {
      "cell_type": "code",
      "source": [],
      "outputs": [],
      "execution_count": null,
      "metadata": {
        "collapsed": false,
        "jupyter": {
          "source_hidden": false,
          "outputs_hidden": false
        },
        "nteract": {
          "transient": {
            "deleting": false
          }
        }
      }
    }
  ],
  "metadata": {
    "kernel_info": {
      "name": "py36"
    },
    "language_info": {
      "name": "python",
      "version": "3.6.6",
      "mimetype": "text/x-python",
      "codemirror_mode": {
        "name": "ipython",
        "version": 3
      },
      "pygments_lexer": "ipython3",
      "nbconvert_exporter": "python",
      "file_extension": ".py"
    },
    "kernelspec": {
      "argv": [
        "/Users/claw/anaconda3/envs/py36/bin/python",
        "-m",
        "ipykernel_launcher",
        "-f",
        "{connection_file}"
      ],
      "display_name": "py36",
      "language": "python",
      "name": "py36"
    },
    "nteract": {
      "version": "0.22.0"
    }
  },
  "nbformat": 4,
  "nbformat_minor": 0
}