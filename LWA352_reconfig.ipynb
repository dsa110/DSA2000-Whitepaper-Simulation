{
  "cells": [
    {
      "cell_type": "code",
      "source": [
        "import casatools\n",
        "import matplotlib.pyplot as plt\n",
        "import numpy as np\n",
        "from astropy.table import Table\n",
        "import astropy.coordinates as ac\n",
        "from astropy import units"
      ],
      "outputs": [],
      "execution_count": 2,
      "metadata": {
        "collapsed": false,
        "jupyter": {
          "source_hidden": false,
          "outputs_hidden": false
        },
        "nteract": {
          "transient": {
            "deleting": false
          }
        },
        "execution": {
          "iopub.status.busy": "2020-03-13T22:39:59.790Z",
          "iopub.execute_input": "2020-03-13T22:39:59.794Z",
          "iopub.status.idle": "2020-03-13T22:40:01.019Z",
          "shell.execute_reply": "2020-03-13T22:40:01.022Z"
        }
      }
    },
    {
      "cell_type": "code",
      "source": [
        "cd ~/code/dsa2000sim"
      ],
      "outputs": [
        {
          "output_type": "stream",
          "name": "stdout",
          "text": [
            "/Users/claw/code/dsa2000sim\n"
          ]
        }
      ],
      "execution_count": 3,
      "metadata": {
        "collapsed": false,
        "jupyter": {
          "source_hidden": false,
          "outputs_hidden": false
        },
        "nteract": {
          "transient": {
            "deleting": false
          }
        },
        "execution": {
          "shell.execute_reply": "2020-03-13T22:40:01.643Z",
          "iopub.status.busy": "2020-03-13T22:40:01.629Z",
          "iopub.execute_input": "2020-03-13T22:40:01.632Z",
          "iopub.status.idle": "2020-03-13T22:40:01.640Z"
        }
      }
    },
    {
      "cell_type": "code",
      "source": [
        "tabname = 'antenna_positions_LWA_coordinates.tab'\n",
        "#conf_file = 'LWA_coordinates.cfg'\n",
        "conf_file = 'LWA352_tmp.cfg'"
      ],
      "outputs": [],
      "execution_count": 4,
      "metadata": {
        "collapsed": false,
        "jupyter": {
          "source_hidden": false,
          "outputs_hidden": false
        },
        "nteract": {
          "transient": {
            "deleting": false
          }
        },
        "execution": {
          "iopub.status.busy": "2020-03-13T22:40:01.925Z",
          "iopub.execute_input": "2020-03-13T22:40:01.928Z",
          "iopub.status.idle": "2020-03-13T22:40:01.933Z",
          "shell.execute_reply": "2020-03-13T22:40:01.938Z"
        }
      }
    },
    {
      "cell_type": "code",
      "source": [
        "tb = casatools.table()\n",
        "tb.fromascii(tabname, conf_file, firstline=3, sep=' ', columnnames=['X', 'Y', 'Z', 'DIAM', 'NAME'], datatypes=['D', 'D', 'D', 'D', 'A'])\n",
        "xx=tb.getcol('X')\n",
        "yy=tb.getcol('Y')\n",
        "zz=tb.getcol('Z')\n",
        "diam=tb.getcol('DIAM')\n",
        "anames=tb.getcol('NAME')\n",
        "tb.close()\n"
      ],
      "outputs": [
        {
          "output_type": "execute_result",
          "execution_count": 5,
          "data": {
            "text/plain": [
              "True"
            ]
          },
          "metadata": {}
        }
      ],
      "execution_count": 5,
      "metadata": {
        "collapsed": false,
        "jupyter": {
          "source_hidden": false,
          "outputs_hidden": false
        },
        "nteract": {
          "transient": {
            "deleting": false
          }
        },
        "execution": {
          "iopub.status.busy": "2020-03-13T22:40:02.213Z",
          "iopub.execute_input": "2020-03-13T22:40:02.217Z",
          "iopub.status.idle": "2020-03-13T22:40:02.224Z",
          "shell.execute_reply": "2020-03-13T22:40:02.231Z"
        }
      }
    },
    {
      "cell_type": "code",
      "source": [
        "# key antennas\n",
        "i0 = np.where(anames == 'LWA-23')[0][0]\n",
        "i1 = np.where(anames == 'LWA-27')[0][0]\n",
        "i2 = np.where(anames == 'LWA-30')[0][0]\n",
        "i3 = np.where(anames == 'LWA-31')[0][0]\n",
        "i4 = np.where(anames == 'LWA-62')[0][0]\n",
        "i5 = np.where(anames == 'LWA-93')[0][0]\n",
        "i6 = np.where(anames == 'LWA-94')[0][0]\n",
        "i351 = np.where(anames == 'LWA-351')[0][0]\n",
        "i320 = np.where(anames == 'LWA-320')[0][0]\n",
        "i319 = np.where(anames == 'LWA-319')[0][0]"
      ],
      "outputs": [],
      "execution_count": 6,
      "metadata": {
        "collapsed": false,
        "jupyter": {
          "source_hidden": false,
          "outputs_hidden": false
        },
        "nteract": {
          "transient": {
            "deleting": false
          }
        },
        "execution": {
          "iopub.status.busy": "2020-03-13T22:40:02.734Z",
          "iopub.execute_input": "2020-03-13T22:40:02.737Z",
          "iopub.status.idle": "2020-03-13T22:40:02.741Z",
          "shell.execute_reply": "2020-03-13T22:40:02.744Z"
        }
      }
    },
    {
      "cell_type": "code",
      "source": [
        "# select some\n",
        "x0 = -2409000\n",
        "y0 = -4477250\n",
        "delta = 300\n",
        "ww = np.where((xx < x0+delta)*(xx > x0)*(yy > y0)*(yy < y0+delta))\n",
        "\n",
        "# plot them\n",
        "fig, (ax0, ax1) = plt.subplots(ncols=2, nrows=1, figsize=(15,10))\n",
        "pos = ac.EarthLocation.from_geocentric(x=xx, y=yy, z=zz, unit='m')\n",
        "ax0.scatter(pos.lon.value, pos.lat.value)\n",
        "ax1.scatter(pos.lon.value[ww], pos.lat.value[ww])\n",
        "ax1.text(pos.lon.value[i0], pos.lat.value[i0], anames[i0])\n",
        "ax1.text(pos.lon.value[i1], pos.lat.value[i1], anames[i1])\n",
        "ax1.text(pos.lon.value[i2], pos.lat.value[i2], anames[i2])\n",
        "ax1.text(pos.lon.value[i3], pos.lat.value[i3], anames[i3])\n",
        "ax1.text(pos.lon.value[i4], pos.lat.value[i4], anames[i4])\n",
        "ax1.text(pos.lon.value[i5], pos.lat.value[i5], anames[i5])\n",
        "ax1.text(pos.lon.value[i6], pos.lat.value[i6], anames[i6])\n",
        "ax0.text(pos.lon.value[i319], pos.lat.value[i319], anames[i319])\n",
        "ax0.text(pos.lon.value[i320], pos.lat.value[i320], anames[i320])\n",
        "ax0.text(pos.lon.value[i351], pos.lat.value[i351], anames[i351])"
      ],
      "outputs": [
        {
          "output_type": "execute_result",
          "execution_count": 7,
          "data": {
            "text/plain": [
              "Text(-118.2937964, 37.2478863, 'LWA-351')"
            ]
          },
          "metadata": {}
        },
        {
          "output_type": "display_data",
          "data": {
            "text/plain": [
              "<Figure size 1080x720 with 2 Axes>"
            ],
            "image/png": "[encoded data removed]"
          },
          "metadata": {
            "needs_background": "light"
          }
        }
      ],
      "execution_count": 7,
      "metadata": {
        "collapsed": false,
        "jupyter": {
          "source_hidden": false,
          "outputs_hidden": false
        },
        "nteract": {
          "transient": {
            "deleting": false
          }
        },
        "execution": {
          "iopub.status.busy": "2020-03-13T22:40:03.097Z",
          "iopub.execute_input": "2020-03-13T22:40:03.099Z",
          "iopub.status.idle": "2020-03-13T22:40:03.345Z",
          "shell.execute_reply": "2020-03-13T22:40:03.357Z"
        }
      }
    },
    {
      "cell_type": "code",
      "source": [
        "xxx = xx.copy()\n",
        "yyy = yy.copy()\n",
        "zzz = zz.copy()\n",
        "\n",
        "# core ants\n",
        "for ind, ii in enumerate([i0, i1, i2, i3, i4, i5, i6]):\n",
        "    loc = ac.EarthLocation.from_geocentric(xx[ii], yy[ii], zz[ii], unit='m')\n",
        "    loc2 = ac.EarthLocation.from_geodetic(lon=loc.lon + 3*units.arcsec, lat=loc.lat - 3*units.arcsec)\n",
        "    print(xx[ii]-loc2.x.value, yy[ii]-loc2.y.value, zz[ii]-loc2.z.value)\n",
        "    xxx[ii] = loc2.x.value\n",
        "    yyy[ii] = loc2.y.value\n",
        "    zzz[ii] = loc2.z.value\n",
        "\n",
        "# sensitive area ants\n",
        "loc = ac.EarthLocation.from_geocentric(xxx[i6], yyy[i6], zzz[i6], unit='m')\n",
        "for ind, ii in enumerate([i319, i320, i351]):\n",
        "    loc2 = ac.EarthLocation.from_geodetic(lon=loc.lon - (ind+1)*units.arcsec, lat=loc.lat - (0.2*(ind+1))*units.arcsec)\n",
        "    print(xx[ii]-loc2.x.value, yy[ii]-loc2.y.value, zz[ii]-loc2.z.value)\n",
        "    xxx[ii] = loc2.x.value\n",
        "    yyy[ii] = loc2.y.value\n",
        "    zzz[ii] = loc2.z.value    "
      ],
      "outputs": [
        {
          "output_type": "stream",
          "name": "stdout",
          "text": [
            "-38.601422547362745 84.31985430885106 73.62896234402433\n",
            "-38.601456829346716 84.31983842421323 73.6290327408351\n",
            "-38.60166977252811 84.31974052917212 73.62918096035719\n",
            "-38.601439508609474 84.3198458775878 73.62920593563467\n",
            "-38.60153738223016 84.31980064883828 73.62936042062938\n",
            "-38.60126618947834 84.31992454547435 73.62945280456915\n",
            "-38.60104957409203 84.320023692213 73.6294596507214\n",
            "-737.6097347619943 988.558539589867 685.2967294505797\n",
            "-601.7614349988289 956.7963647795841 733.194867244456\n",
            "-649.255566897802 1102.078909309581 871.8320902800187\n"
          ]
        }
      ],
      "execution_count": 8,
      "metadata": {
        "collapsed": false,
        "jupyter": {
          "source_hidden": false,
          "outputs_hidden": false
        },
        "nteract": {
          "transient": {
            "deleting": false
          }
        },
        "execution": {
          "iopub.status.busy": "2020-03-13T22:40:03.632Z",
          "iopub.execute_input": "2020-03-13T22:40:03.635Z",
          "iopub.status.idle": "2020-03-13T22:40:03.641Z",
          "shell.execute_reply": "2020-03-13T22:40:03.644Z"
        }
      }
    },
    {
      "cell_type": "code",
      "source": [
        "x0 = -2409100\n",
        "y0 = -4477400\n",
        "delta = 400\n",
        "ww = np.where((xxx < x0+delta)*(xxx > x0)*(yyy > y0)*(yyy < y0+delta))\n",
        "\n",
        "# plot them\n",
        "fig, (ax0, ax1) = plt.subplots(ncols=2, nrows=1, figsize=(15,10))\n",
        "pos = ac.EarthLocation.from_geocentric(x=xxx, y=yyy, z=zzz, unit='m')\n",
        "ax0.scatter(pos.lon.value, pos.lat.value)\n",
        "ax1.scatter(pos.lon.value[ww], pos.lat.value[ww])\n",
        "ax1.text(pos.lon.value[i0], pos.lat.value[i0], anames[i0])\n",
        "ax1.text(pos.lon.value[i1], pos.lat.value[i1], anames[i1])\n",
        "ax1.text(pos.lon.value[i2], pos.lat.value[i2], anames[i2])\n",
        "ax1.text(pos.lon.value[i3], pos.lat.value[i3], anames[i3])\n",
        "ax1.text(pos.lon.value[i4], pos.lat.value[i4], anames[i4])\n",
        "ax1.text(pos.lon.value[i5], pos.lat.value[i5], anames[i5])\n",
        "ax1.text(pos.lon.value[i6], pos.lat.value[i6], anames[i6])\n",
        "ax1.text(pos.lon.value[i319], pos.lat.value[i319], anames[i319])\n",
        "ax1.text(pos.lon.value[i320], pos.lat.value[i320], anames[i320])\n",
        "ax1.text(pos.lon.value[i351], pos.lat.value[i351], anames[i351])\n",
        "ax1.set_xlim(-118.283, -118.279)\n",
        "ax1.set_ylim(37.2375, 37.2415)"
      ],
      "outputs": [
        {
          "output_type": "execute_result",
          "execution_count": 9,
          "data": {
            "text/plain": [
              "(37.2375, 37.2415)"
            ]
          },
          "metadata": {}
        },
        {
          "output_type": "display_data",
          "data": {
            "text/plain": [
              "<Figure size 1080x720 with 2 Axes>"
            ],
            "image/png": "[encoded data removed]"
          },
          "metadata": {
            "needs_background": "light"
          }
        }
      ],
      "execution_count": 9,
      "metadata": {
        "collapsed": false,
        "jupyter": {
          "source_hidden": false,
          "outputs_hidden": false
        },
        "nteract": {
          "transient": {
            "deleting": false
          }
        },
        "execution": {
          "iopub.status.busy": "2020-03-13T22:40:04.078Z",
          "iopub.execute_input": "2020-03-13T22:40:04.081Z",
          "iopub.status.idle": "2020-03-13T22:40:04.362Z",
          "shell.execute_reply": "2020-03-13T22:40:04.364Z"
        }
      }
    },
    {
      "cell_type": "code",
      "source": [
        "tab = Table([xxx, yyy, zzz, diam, anames], names=['x', 'y', 'z', 'diam', 'name'])\n",
        "tab.write('LWA352_coordinates_mod.cfg', format='ascii', overwrite=True)"
      ],
      "outputs": [],
      "execution_count": 10,
      "metadata": {
        "collapsed": false,
        "jupyter": {
          "source_hidden": false,
          "outputs_hidden": false
        },
        "nteract": {
          "transient": {
            "deleting": false
          }
        },
        "execution": {
          "iopub.status.busy": "2020-03-13T22:40:04.437Z",
          "iopub.execute_input": "2020-03-13T22:40:04.440Z",
          "iopub.status.idle": "2020-03-13T22:40:04.444Z",
          "shell.execute_reply": "2020-03-13T22:40:04.446Z"
        }
      }
    },
    {
      "cell_type": "code",
      "source": [
        "tab = Table([pos.lon.value, pos.lat.value], names=['lon', 'lat'])\n",
        "tab.write('LWA352_latlon_mod.cfg', format='ascii', overwrite=True)"
      ],
      "outputs": [],
      "execution_count": 13,
      "metadata": {
        "collapsed": false,
        "jupyter": {
          "source_hidden": false,
          "outputs_hidden": false
        },
        "nteract": {
          "transient": {
            "deleting": false
          }
        },
        "execution": {
          "iopub.status.busy": "2020-03-13T22:41:00.032Z",
          "iopub.execute_input": "2020-03-13T22:41:00.035Z",
          "iopub.status.idle": "2020-03-13T22:41:00.039Z",
          "shell.execute_reply": "2020-03-13T22:41:00.041Z"
        }
      }
    },
    {
      "cell_type": "code",
      "source": [],
      "outputs": [],
      "execution_count": null,
      "metadata": {
        "collapsed": false,
        "jupyter": {
          "source_hidden": false,
          "outputs_hidden": false
        },
        "nteract": {
          "transient": {
            "deleting": false
          }
        }
      }
    }
  ],
  "metadata": {
    "kernel_info": {
      "name": "py36"
    },
    "language_info": {
      "name": "python",
      "version": "3.6.6",
      "mimetype": "text/x-python",
      "codemirror_mode": {
        "name": "ipython",
        "version": 3
      },
      "pygments_lexer": "ipython3",
      "nbconvert_exporter": "python",
      "file_extension": ".py"
    },
    "kernelspec": {
      "argv": [
        "/Users/claw/anaconda3/envs/py36/bin/python",
        "-m",
        "ipykernel_launcher",
        "-f",
        "{connection_file}"
      ],
      "display_name": "py36",
      "language": "python",
      "name": "py36"
    },
    "nteract": {
      "version": "0.22.0"
    }
  },
  "nbformat": 4,
  "nbformat_minor": 0
}