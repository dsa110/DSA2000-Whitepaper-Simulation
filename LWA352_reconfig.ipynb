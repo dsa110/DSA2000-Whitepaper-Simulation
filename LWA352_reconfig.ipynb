{
  "cells": [
    {
      "cell_type": "code",
      "source": [
        "import casatools\n",
        "import matplotlib.pyplot as plt\n",
        "import numpy as np\n",
        "from astropy.table import Table\n",
        "import astropy.coordinates as ac\n",
        "from astropy import units"
      ],
      "outputs": [],
      "execution_count": 14,
      "metadata": {
        "collapsed": false,
        "jupyter": {
          "source_hidden": false,
          "outputs_hidden": false
        },
        "nteract": {
          "transient": {
            "deleting": false
          }
        },
        "execution": {
          "iopub.status.busy": "2020-03-13T19:25:21.808Z",
          "iopub.execute_input": "2020-03-13T19:25:21.810Z",
          "iopub.status.idle": "2020-03-13T19:25:21.815Z",
          "shell.execute_reply": "2020-03-13T19:25:21.817Z"
        }
      }
    },
    {
      "cell_type": "code",
      "source": [
        "cd ~/code/dsa2000sim"
      ],
      "outputs": [
        {
          "output_type": "stream",
          "name": "stdout",
          "text": [
            "/Users/claw/code/dsa2000sim\n"
          ]
        }
      ],
      "execution_count": 2,
      "metadata": {
        "collapsed": false,
        "jupyter": {
          "source_hidden": false,
          "outputs_hidden": false
        },
        "nteract": {
          "transient": {
            "deleting": false
          }
        },
        "execution": {
          "shell.execute_reply": "2020-03-13T19:18:35.717Z",
          "iopub.status.busy": "2020-03-13T19:18:35.687Z",
          "iopub.execute_input": "2020-03-13T19:18:35.691Z",
          "iopub.status.idle": "2020-03-13T19:18:35.699Z"
        }
      }
    },
    {
      "cell_type": "code",
      "source": [
        "tabname = 'antenna_positions_LWA_coordinates.tab'\n",
        "#conf_file = 'LWA_coordinates.cfg'\n",
        "conf_file = 'LWA352_tmp.cfg'"
      ],
      "outputs": [],
      "execution_count": 3,
      "metadata": {
        "collapsed": false,
        "jupyter": {
          "source_hidden": false,
          "outputs_hidden": false
        },
        "nteract": {
          "transient": {
            "deleting": false
          }
        },
        "execution": {
          "iopub.status.busy": "2020-03-13T19:18:35.703Z",
          "iopub.execute_input": "2020-03-13T19:18:35.706Z",
          "iopub.status.idle": "2020-03-13T19:18:35.712Z",
          "shell.execute_reply": "2020-03-13T19:18:35.719Z"
        }
      }
    },
    {
      "cell_type": "code",
      "source": [
        "tb = casatools.table()\n",
        "tb.fromascii(tabname, conf_file, firstline=3, sep=' ', columnnames=['X', 'Y', 'Z', 'DIAM', 'NAME'], datatypes=['D', 'D', 'D', 'D', 'A'])\n",
        "xx=tb.getcol('X')\n",
        "yy=tb.getcol('Y')\n",
        "zz=tb.getcol('Z')\n",
        "diam=tb.getcol('DIAM')\n",
        "anames=tb.getcol('NAME')\n",
        "tb.close()\n"
      ],
      "outputs": [
        {
          "output_type": "execute_result",
          "execution_count": 4,
          "data": {
            "text/plain": [
              "True"
            ]
          },
          "metadata": {}
        }
      ],
      "execution_count": 4,
      "metadata": {
        "collapsed": false,
        "jupyter": {
          "source_hidden": false,
          "outputs_hidden": false
        },
        "nteract": {
          "transient": {
            "deleting": false
          }
        },
        "execution": {
          "iopub.status.busy": "2020-03-13T19:18:37.699Z",
          "iopub.execute_input": "2020-03-13T19:18:37.702Z",
          "iopub.status.idle": "2020-03-13T19:18:37.715Z",
          "shell.execute_reply": "2020-03-13T19:18:37.719Z"
        }
      }
    },
    {
      "cell_type": "code",
      "source": [
        "plt.figure(figsize=(10,10))\n",
        "x0 = -2409000\n",
        "y0 = -4477250\n",
        "delta = 300\n",
        "ww = np.where((xx < x0+delta)*(xx > x0)*(yy > y0)*(yy < y0+delta))\n",
        "plt.scatter(xx[ww], yy[ww])\n",
        "#plt.scatter(xx, yy)\n",
        "i0 = np.where(anames == 'LWA-23')[0][0]\n",
        "i1 = np.where(anames == 'LWA-27')[0][0]\n",
        "i2 = np.where(anames == 'LWA-30')[0][0]\n",
        "i3 = np.where(anames == 'LWA-31')[0][0]\n",
        "i4 = np.where(anames == 'LWA-62')[0][0]\n",
        "i5 = np.where(anames == 'LWA-93')[0][0]\n",
        "i6 = np.where(anames == 'LWA-94')[0][0]\n",
        "plt.text(xx[i0], yy[i0], anames[i0])\n",
        "plt.text(xx[i1], yy[i1], anames[i1])\n",
        "plt.text(xx[i2], yy[i2], anames[i2])\n",
        "plt.text(xx[i3], yy[i3], anames[i3])\n",
        "plt.text(xx[i4], yy[i4], anames[i4])\n",
        "plt.text(xx[i5], yy[i5], anames[i5])\n",
        "plt.text(xx[i6], yy[i6], anames[i6])"
      ],
      "outputs": [
        {
          "output_type": "execute_result",
          "execution_count": 5,
          "data": {
            "text/plain": [
              "Text(-2408809.3052168754, -4477113.145719079, 'LWA-94')"
            ]
          },
          "metadata": {}
        },
        {
          "output_type": "display_data",
          "data": {
            "text/plain": [
              "<Figure size 720x720 with 1 Axes>"
            ],
            "image/png": "[encoded data removed]"
          },
          "metadata": {
            "needs_background": "light"
          }
        }
      ],
      "execution_count": 5,
      "metadata": {
        "collapsed": false,
        "jupyter": {
          "source_hidden": false,
          "outputs_hidden": false
        },
        "nteract": {
          "transient": {
            "deleting": false
          }
        },
        "execution": {
          "iopub.status.busy": "2020-03-13T19:18:38.764Z",
          "iopub.execute_input": "2020-03-13T19:18:38.767Z",
          "iopub.status.idle": "2020-03-13T19:18:38.964Z",
          "shell.execute_reply": "2020-03-13T19:18:38.971Z"
        }
      }
    },
    {
      "cell_type": "code",
      "source": [
        "for ii in [i0, i1, i2, i3, i4, i5, i6]:\n",
        "    loc = ac.EarthLocation.from_geocentric(xx[ii], yy[ii], zz[ii], unit='m')\n",
        "    loc2 = ac.EarthLocation.from_geodetic(lon=loc.lon, lat=loc.lat - 3*units.arcsec)\n",
        "    print(xx[ii]-loc2.x.value, yy[ii]-loc2.y.value, zz[ii]-loc2.z.value)\n",
        "    xx[ii] = loc2.x.value\n",
        "    yy[ii] = loc2.y.value\n",
        "    zz[ii] = loc2.z.value"
      ],
      "outputs": [
        {
          "output_type": "stream",
          "name": "stdout",
          "text": [
            "26.516547304578125 49.2863445552066 73.62896234402433\n",
            "26.516545369289815 49.28623828664422 73.6290327408351\n",
            "26.51645901147276 49.28605880588293 73.62918096035719\n",
            "26.516600027214736 49.285944865085185 73.62920593563467\n",
            "26.516582540702075 49.28571877628565 73.62936042062938\n",
            "26.516764807980508 49.285479883663356 73.62945280456915\n",
            "26.51689318101853 49.28540037944913 73.6294596507214\n"
          ]
        }
      ],
      "execution_count": 25,
      "metadata": {
        "collapsed": false,
        "jupyter": {
          "source_hidden": false,
          "outputs_hidden": false
        },
        "nteract": {
          "transient": {
            "deleting": false
          }
        },
        "execution": {
          "iopub.status.busy": "2020-03-13T19:29:36.646Z",
          "iopub.execute_input": "2020-03-13T19:29:36.648Z",
          "iopub.status.idle": "2020-03-13T19:29:36.653Z",
          "shell.execute_reply": "2020-03-13T19:29:36.655Z"
        }
      }
    },
    {
      "cell_type": "code",
      "source": [
        "plt.figure(figsize=(10,10))\n",
        "x0 = -2409000\n",
        "y0 = -4477250\n",
        "delta = 300\n",
        "ww = np.where((xx < x0+delta)*(xx > x0)*(yy > y0)*(yy < y0+delta))\n",
        "plt.scatter(xx, yy)\n",
        "plt.text(xx[i0], yy[i0], anames[i0])\n",
        "plt.text(xx[i1], yy[i1], anames[i1])\n",
        "plt.text(xx[i2], yy[i2], anames[i2])\n",
        "plt.text(xx[i3], yy[i3], anames[i3])\n",
        "plt.text(xx[i4], yy[i4], anames[i4])\n",
        "plt.text(xx[i5], yy[i5], anames[i5])\n",
        "plt.text(xx[i6], yy[i6], anames[i6])"
      ],
      "outputs": [
        {
          "output_type": "execute_result",
          "execution_count": 26,
          "data": {
            "text/plain": [
              "Text(-2408835.8221100564, -4477162.431119459, 'LWA-94')"
            ]
          },
          "metadata": {}
        },
        {
          "output_type": "display_data",
          "data": {
            "text/plain": [
              "<Figure size 720x720 with 1 Axes>"
            ],
            "image/png": "[encoded data removed]"
          },
          "metadata": {
            "needs_background": "light"
          }
        }
      ],
      "execution_count": 26,
      "metadata": {
        "collapsed": false,
        "jupyter": {
          "source_hidden": false,
          "outputs_hidden": false
        },
        "nteract": {
          "transient": {
            "deleting": false
          }
        },
        "execution": {
          "iopub.status.busy": "2020-03-13T19:29:37.344Z",
          "iopub.execute_input": "2020-03-13T19:29:37.346Z",
          "iopub.status.idle": "2020-03-13T19:29:37.504Z",
          "shell.execute_reply": "2020-03-13T19:29:37.511Z"
        }
      }
    },
    {
      "cell_type": "code",
      "source": [
        "tab = Table([xx, yy, zz, diam, anames], names=['x', 'y', 'z', 'diam', 'name'])\n",
        "tab.write('LWA352_coordinates_mod.cfg', format='ascii', overwrite=True)"
      ],
      "outputs": [],
      "execution_count": 29,
      "metadata": {
        "collapsed": false,
        "jupyter": {
          "source_hidden": false,
          "outputs_hidden": false
        },
        "nteract": {
          "transient": {
            "deleting": false
          }
        },
        "execution": {
          "iopub.status.busy": "2020-03-13T19:30:00.417Z",
          "iopub.execute_input": "2020-03-13T19:30:00.419Z",
          "iopub.status.idle": "2020-03-13T19:30:00.423Z",
          "shell.execute_reply": "2020-03-13T19:30:00.429Z"
        }
      }
    }
  ],
  "metadata": {
    "kernel_info": {
      "name": "py36"
    },
    "language_info": {
      "name": "python",
      "version": "3.6.6",
      "mimetype": "text/x-python",
      "codemirror_mode": {
        "name": "ipython",
        "version": 3
      },
      "pygments_lexer": "ipython3",
      "nbconvert_exporter": "python",
      "file_extension": ".py"
    },
    "kernelspec": {
      "argv": [
        "/Users/claw/anaconda3/envs/py36/bin/python",
        "-m",
        "ipykernel_launcher",
        "-f",
        "{connection_file}"
      ],
      "display_name": "py36",
      "language": "python",
      "name": "py36"
    },
    "nteract": {
      "version": "0.22.0"
    }
  },
  "nbformat": 4,
  "nbformat_minor": 0
}